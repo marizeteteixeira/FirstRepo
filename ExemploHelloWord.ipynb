{
  "nbformat": 4,
  "nbformat_minor": 0,
  "metadata": {
    "colab": {
      "provenance": [],
      "authorship_tag": "ABX9TyOgxNFUTqpdTqLbtMScrIFW",
      "include_colab_link": true
    },
    "kernelspec": {
      "name": "python3",
      "display_name": "Python 3"
    },
    "language_info": {
      "name": "python"
    }
  },
  "cells": [
    {
      "cell_type": "markdown",
      "metadata": {
        "id": "view-in-github",
        "colab_type": "text"
      },
      "source": [
        "<a href=\"https://colab.research.google.com/github/marizeteteixeira/FirstRepo/blob/main/ExemploHelloWord.ipynb\" target=\"_parent\"><img src=\"https://colab.research.google.com/assets/colab-badge.svg\" alt=\"Open In Colab\"/></a>"
      ]
    },
    {
      "cell_type": "code",
      "source": [
        "# trazendo a biblioteca capaz de realizar requisições\n",
        "import requests\n",
        "import random\n",
        "\n",
        "# uma variável chamada url que armazena o endereço com as info que desejo buscar\n",
        "url = 'https://raw.githubusercontent.com/guilhermeonrails/api-imersao-ia/main/words.json'\n",
        "# faço a requisição e armazeno em uma variável chamada resposta\n",
        "resposta = requests.get(url)\n",
        "# transforma a resposta em um JSON\n",
        "data = resposta.json()\n",
        "# exibindo as informações com o comando print (lembrem-se do Hello world)\n",
        "#print(data)\n",
        "# exibindo registro específico, lembrando que array começa em zero\n",
        "#data[0]\n",
        "\n",
        "# variável chamada valor secreto que armazena uma tecnologia aleatória da lista\n",
        "valor_secreto = random.choice(data)\n",
        "# variável para armazenar apenas a palavra\n",
        "palavra_secreta = valor_secreto['palavra']\n",
        "# variável para armazenar apenas a dica\n",
        "dica = valor_secreto['dica']\n",
        "# mostrou na tela quantas letras a palavra secreta possui e a dica\n",
        "# print(f'A palavra secreta tem {len(palavra_secreta)} letras -> {dica}')\n",
        "# receber o chute ou palpite da tecnologia\n",
        "\n",
        "# print(f'A palavra secreta \"{palavra_secreta}\" tem {len(palavra_secreta)} letras e a Dica é \"{dica}\".')\n",
        "\n",
        "print(f'A palavra secreta tem {len(palavra_secreta)} letras')\n",
        "print(f'A dica é -> {dica}')\n",
        "chute = input('O que você acha que é ')\n",
        "if (chute == palavra_secreta):\n",
        "  print(f'Acertou', '\\n')\n",
        "else:\n",
        "  print(f'Errou.. a palavra secreta era {palavra_secreta}', '\\n')\n",
        "\n",
        "print(valor_secreto)"
      ],
      "metadata": {
        "id": "S1qlo4Fc6PDS"
      },
      "execution_count": null,
      "outputs": []
    }
  ]
}